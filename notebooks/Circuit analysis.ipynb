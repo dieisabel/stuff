{
 "cells": [
  {
   "cell_type": "markdown",
   "id": "773117f2-6d29-48f2-9c79-79de787223f4",
   "metadata": {
    "tags": []
   },
   "source": [
    "# Анализ цепей"
   ]
  },
  {
   "cell_type": "markdown",
   "id": "a56db582-e80c-4c7a-b4de-bf7f14d2ef12",
   "metadata": {
    "jp-MarkdownHeadingCollapsed": true,
    "tags": []
   },
   "source": [
    "## Общая информация"
   ]
  },
  {
   "cell_type": "markdown",
   "id": "71520853-40bf-4381-8fe7-6e3f278e95b2",
   "metadata": {},
   "source": [
    "Основная идея PySpice заключается в том, что при помощи Python можно описывать цепи на языке SPICE и потом скармливать их непосредственно симулятору.\n",
    "\n",
    "Алгоритм анализа таков:\n",
    "- создаём объект цепи `Circuit`, где описываем цепь\n",
    "- указываем вид симуляции\n",
    "- симулируем и анализируем результат при помощи `mathplotlib` и `numpy`\n",
    "\n",
    "PySpice под капотом использует SPICE симуляторы. Для того, чтобы указать, какой симулятор использовать необходимо выставить `PySpice.Spice.Simulation.CircuitSimulator.DEFAULT_SIMULATOR`. В данном примере используется `ngspice`, для работы с ним есть два способа:\n",
    "- использовать динамическую библиотеку `libngspice` (`ngspice-shared`)\n",
    "- использовать сам симулятор `ngspice` (`ngspice-subprocess`), используется по-умолчанию\n",
    "\n",
    "Есть замечание насчёт библиотеки: библиотека должна иметь имя `libngspice{}.so`. В Debian системе при установке библиотеки при помощи `apt` она будет иметь имя `libngspice.so.0`. Для решения этой проблемы можно либо сделать символичную ссылку с именем `libngspice.so` где-то в пути поиска библиотек (PySpice ищет библиотеку при помощи `ctypes.util.find_library()`, также можно указать путь к директории при помощи `LD_LIBRARY_PATH`), которая будет указывать на библиотеку, либо указать полный путь к библиотеке в `PySpice.Spice.NgSpice.Shared.NgSpiceShared.NGSPICE_PATH`."
   ]
  },
  {
   "cell_type": "markdown",
   "id": "c5f1f003-5b70-4f7e-b244-7a3a455a9a76",
   "metadata": {
    "jp-MarkdownHeadingCollapsed": true,
    "tags": []
   },
   "source": [
    "## Подготовка"
   ]
  },
  {
   "cell_type": "markdown",
   "id": "f67aa019-9e2c-49e4-b416-90c5d1ddcc0f",
   "metadata": {},
   "source": [
    "Перед тем, как приступать к анализу необходимо сконфигурировать окружение."
   ]
  },
  {
   "cell_type": "markdown",
   "id": "94af2cf6-3017-40ea-8da0-2205eb57ff6d",
   "metadata": {},
   "source": [
    "Настроим логирование:"
   ]
  },
  {
   "cell_type": "code",
   "execution_count": 1,
   "id": "1619dbfd-5ff0-4ab1-8816-50cecb9de09d",
   "metadata": {},
   "outputs": [],
   "source": [
    "import PySpice.Logging.Logging as Logging\n",
    "\n",
    "logger = Logging.setup_logging()"
   ]
  },
  {
   "cell_type": "markdown",
   "id": "d9d60df5-4dd0-4864-b590-90d638524f99",
   "metadata": {},
   "source": [
    "Нужно удостовериться, что выставлен деволтный симулятор во избежания каких-либо ошибок. Иногда код ниже выбрасывает что-то вроде `PySpice has not Spice object`, из-за этого при создании объекта симуляции можно выскакивать ошибка `Expected label Circuit instead of No compability mode`. Сказать бы честно не знаю как это починить и почему возникает эта ошибка, но один из вариантов, который у меня работает это прогнать все ячейки даже если там будут какие-либо ошибки и после этого прогнать эту ячейку."
   ]
  },
  {
   "cell_type": "code",
   "execution_count": 21,
   "id": "0409fd27-fe00-4c6d-b73b-6c6b6dd6727f",
   "metadata": {},
   "outputs": [],
   "source": [
    "import PySpice\n",
    "\n",
    "PySpice.Spice.Simulation.CircuitSimulator.DEFAULT_SIMULATOR = \"ngspice-shared\""
   ]
  },
  {
   "cell_type": "markdown",
   "id": "f49358c3-b7d6-4e90-a2f9-e4151732473a",
   "metadata": {},
   "source": [
    "Импортируем необходимые объекты для PySpice:"
   ]
  },
  {
   "cell_type": "code",
   "execution_count": 3,
   "id": "402b125c-9c31-475c-8272-f96dd07d33f7",
   "metadata": {},
   "outputs": [],
   "source": [
    "from PySpice.Spice.Netlist import Circuit\n",
    "from PySpice.Unit import *"
   ]
  },
  {
   "cell_type": "markdown",
   "id": "14691cc8-e2ab-4323-9c96-01d88fb63238",
   "metadata": {},
   "source": [
    "Импортируем объекты для создания графиков mathplotlib:"
   ]
  },
  {
   "cell_type": "code",
   "execution_count": 4,
   "id": "94bbd4ba-08f9-45f5-8b75-00a75df53fbe",
   "metadata": {},
   "outputs": [],
   "source": [
    "import matplotlib.pyplot as plt\n",
    "import numpy as np"
   ]
  },
  {
   "cell_type": "markdown",
   "id": "2a2080be-06d2-49c4-937b-dd3022d26384",
   "metadata": {},
   "source": [
    "Импортируем объекты для рисования схем:"
   ]
  },
  {
   "cell_type": "code",
   "execution_count": 5,
   "id": "e5bde924-ff4f-4159-9386-5dcd7cc8ca6c",
   "metadata": {},
   "outputs": [],
   "source": [
    "import schemdraw\n",
    "import schemdraw.elements as elm"
   ]
  },
  {
   "cell_type": "markdown",
   "id": "46c3c3a8-fe47-4b43-a977-aaa6f440c789",
   "metadata": {},
   "source": [
    "Симуляция должна происходит в определённом окружении. Определим глобально температуру:"
   ]
  },
  {
   "cell_type": "code",
   "execution_count": 6,
   "id": "7fb2a0dd-f2cc-4651-9faf-4c31d07bdcf1",
   "metadata": {},
   "outputs": [],
   "source": [
    "TEMPERATURE = 25\n",
    "NOMINAL_TEMPERATURE = 25"
   ]
  },
  {
   "cell_type": "markdown",
   "id": "6111af63-2e91-4699-82f8-e40d94fccd05",
   "metadata": {
    "tags": []
   },
   "source": [
    "## Резистивный делитель напряжения"
   ]
  },
  {
   "cell_type": "markdown",
   "id": "36a35a5e-f55b-4854-b58d-1bc0e233aa21",
   "metadata": {},
   "source": [
    "Будем анализировать самый простой резистивный делитель. Схема представлена ниже:"
   ]
  },
  {
   "cell_type": "code",
   "execution_count": 30,
   "id": "6fd6d6f7-e279-4dd7-bbef-d6f27871c6da",
   "metadata": {
    "jupyter": {
     "source_hidden": true
    },
    "tags": []
   },
   "outputs": [
    {
     "data": {
      "image/png": "[encoded data removed]",
      "image/svg+xml": [
       "<?xml version=\"1.0\" encoding=\"utf-8\" standalone=\"no\"?>\n",
       "<!DOCTYPE svg PUBLIC \"-//W3C//DTD SVG 1.1//EN\"\n",
       "  \"http://www.w3.org/Graphics/SVG/1.1/DTD/svg11.dtd\">\n",
       "<svg height=\"260.764pt\" version=\"1.1\" viewBox=\"0 0 176.376 260.764\" width=\"176.376pt\" xmlns=\"http://www.w3.org/2000/svg\" xmlns:xlink=\"http://www.w3.org/1999/xlink\">\n",
       " <metadata>\n",
       "  <rdf:RDF xmlns:cc=\"http://creativecommons.org/ns#\" xmlns:dc=\"http://purl.org/dc/elements/1.1/\" xmlns:rdf=\"http://www.w3.org/1999/02/22-rdf-syntax-ns#\">\n",
       "   <cc:Work>\n",
       "    <dc:type rdf:resource=\"http://purl.org/dc/dcmitype/StillImage\"/>\n",
       "    <dc:date>2023-01-30T14:32:41.709085</dc:date>\n",
       "    <dc:format>image/svg+xml</dc:format>\n",
       "    <dc:creator>\n",
       "     <cc:Agent>\n",
       "      <dc:title>Matplotlib v3.4.3, https://matplotlib.org/</dc:title>\n",
       "     </cc:Agent>\n",
       "    </dc:creator>\n",
       "   </cc:Work>\n",
       "  </rdf:RDF>\n",
       " </metadata>\n",
       " <defs>\n",
       "  <style type=\"text/css\">*{stroke-linecap:butt;stroke-linejoin:round;}</style>\n",
       " </defs>\n",
       " <g id=\"figure_1\">\n",
       "  <g id=\"patch_1\">\n",
       "   <path d=\"M 0 260.764 \n",
       "L 176.376 260.764 \n",
       "L 176.376 0 \n",
       "L 0 0 \n",
       "z\n",
       "\" style=\"fill:#ffffff;\"/>\n",
       "  </g>\n",
       "  <g id=\"axes_1\">\n",
       "   <g id=\"line2d_1\">\n",
       "    <path clip-path=\"url(#pcee3202411)\" d=\"M 49.938 47.32 \n",
       "L 49.938 35.08 \n",
       "\" style=\"fill:none;stroke:#000000;stroke-linecap:round;stroke-width:2;\"/>\n",
       "   </g>\n",
       "   <g id=\"line2d_2\">\n",
       "    <path clip-path=\"url(#pcee3202411)\" d=\"M 49.938 35.08 \n",
       "L 44.2005 35.08 \n",
       "\" style=\"fill:none;stroke:#000000;stroke-linecap:round;stroke-width:2;\"/>\n",
       "   </g>\n",
       "   <g id=\"line2d_3\">\n",
       "    <path clip-path=\"url(#pcee3202411)\" d=\"M 49.938 35.08 \n",
       "L 55.6755 35.08 \n",
       "\" style=\"fill:none;stroke:#000000;stroke-linecap:round;stroke-width:2;\"/>\n",
       "   </g>\n",
       "   <g id=\"line2d_4\">\n",
       "    <path clip-path=\"url(#pcee3202411)\" d=\"M 49.938 47.32 \n",
       "L 49.938 77.92 \n",
       "L 57.588 80.47 \n",
       "L 42.288 85.57 \n",
       "L 57.588 90.67 \n",
       "L 42.288 95.77 \n",
       "L 57.588 100.87 \n",
       "L 42.288 105.97 \n",
       "L 49.938 108.52 \n",
       "L 49.938 139.12 \n",
       "\" style=\"fill:none;stroke:#000000;stroke-linecap:round;stroke-width:2;\"/>\n",
       "   </g>\n",
       "   <g id=\"line2d_5\">\n",
       "    <path clip-path=\"url(#pcee3202411)\" d=\"M 49.938 139.12 \n",
       "L 95.838 139.12 \n",
       "L 141.738 139.12 \n",
       "\" style=\"fill:none;stroke:#000000;stroke-linecap:round;stroke-width:2;\"/>\n",
       "   </g>\n",
       "   <g id=\"line2d_6\">\n",
       "    <path clip-path=\"url(#pcee3202411)\" d=\"M 49.938 139.12 \n",
       "L 49.938 169.72 \n",
       "L 57.588 172.27 \n",
       "L 42.288 177.37 \n",
       "L 57.588 182.47 \n",
       "L 42.288 187.57 \n",
       "L 57.588 192.67 \n",
       "L 42.288 197.77 \n",
       "L 49.938 200.32 \n",
       "L 49.938 230.92 \n",
       "\" style=\"fill:none;stroke:#000000;stroke-linecap:round;stroke-width:2;\"/>\n",
       "   </g>\n",
       "   <g id=\"line2d_7\">\n",
       "    <path clip-path=\"url(#pcee3202411)\" d=\"M 49.938 230.92 \n",
       "L 95.838 230.92 \n",
       "L 141.738 230.92 \n",
       "\" style=\"fill:none;stroke:#000000;stroke-linecap:round;stroke-width:2;\"/>\n",
       "   </g>\n",
       "   <g id=\"line2d_8\">\n",
       "    <path clip-path=\"url(#pcee3202411)\" d=\"M 49.938 230.92 \n",
       "L 49.938 243.16 \n",
       "L 42.288 243.16 \n",
       "L 57.588 243.16 \n",
       "M 44.583 246.832 \n",
       "L 55.293 246.832 \n",
       "M 48.408 250.504 \n",
       "L 51.468 250.504 \n",
       "\" style=\"fill:none;stroke:#000000;stroke-linecap:round;stroke-width:2;\"/>\n",
       "   </g>\n",
       "   <g id=\"patch_2\">\n",
       "    <path clip-path=\"url(#pcee3202411)\" d=\"M 141.738 141.415 \n",
       "C 142.346641 141.415 142.930436 141.173184 143.36081 140.74281 \n",
       "C 143.791184 140.312436 144.033 139.728641 144.033 139.12 \n",
       "C 144.033 138.511359 143.791184 137.927564 143.36081 137.49719 \n",
       "C 142.930436 137.066816 142.346641 136.825 141.738 136.825 \n",
       "C 141.129359 136.825 140.545564 137.066816 140.11519 137.49719 \n",
       "C 139.684816 137.927564 139.443 138.511359 139.443 139.12 \n",
       "C 139.443 139.728641 139.684816 140.312436 140.11519 140.74281 \n",
       "C 140.545564 141.173184 141.129359 141.415 141.738 141.415 \n",
       "z\n",
       "\" style=\"fill:#ffffff;stroke:#000000;stroke-linejoin:miter;stroke-width:2;\"/>\n",
       "   </g>\n",
       "   <g id=\"patch_3\">\n",
       "    <path clip-path=\"url(#pcee3202411)\" d=\"M 141.738 233.215 \n",
       "C 142.346641 233.215 142.930436 232.973184 143.36081 232.54281 \n",
       "C 143.791184 232.112436 144.033 231.528641 144.033 230.92 \n",
       "C 144.033 230.311359 143.791184 229.727564 143.36081 229.29719 \n",
       "C 142.930436 228.866816 142.346641 228.625 141.738 228.625 \n",
       "C 141.129359 228.625 140.545564 228.866816 140.11519 229.29719 \n",
       "C 139.684816 229.727564 139.443 230.311359 139.443 230.92 \n",
       "C 139.443 231.528641 139.684816 232.112436 140.11519 232.54281 \n",
       "C 140.545564 232.973184 141.129359 233.215 141.738 233.215 \n",
       "z\n",
       "\" style=\"fill:#ffffff;stroke:#000000;stroke-linejoin:miter;stroke-width:2;\"/>\n",
       "   </g>\n",
       "   <g id=\"text_1\">\n",
       "    <g clip-path=\"url(#pcee3202411)\">\n",
       "     <!-- 10V -->\n",
       "     <g transform=\"translate(37.709484 29.420391)scale(0.125 -0.125)\">\n",
       "      <defs>\n",
       "       <path d=\"M 794 531 \n",
       "L 1825 531 \n",
       "L 1825 4091 \n",
       "L 703 3866 \n",
       "L 703 4441 \n",
       "L 1819 4666 \n",
       "L 2450 4666 \n",
       "L 2450 531 \n",
       "L 3481 531 \n",
       "L 3481 0 \n",
       "L 794 0 \n",
       "L 794 531 \n",
       "z\n",
       "\" id=\"DejaVuSans-31\" transform=\"scale(0.015625)\"/>\n",
       "       <path d=\"M 2034 4250 \n",
       "Q 1547 4250 1301 3770 \n",
       "Q 1056 3291 1056 2328 \n",
       "Q 1056 1369 1301 889 \n",
       "Q 1547 409 2034 409 \n",
       "Q 2525 409 2770 889 \n",
       "Q 3016 1369 3016 2328 \n",
       "Q 3016 3291 2770 3770 \n",
       "Q 2525 4250 2034 4250 \n",
       "z\n",
       "M 2034 4750 \n",
       "Q 2819 4750 3233 4129 \n",
       "Q 3647 3509 3647 2328 \n",
       "Q 3647 1150 3233 529 \n",
       "Q 2819 -91 2034 -91 \n",
       "Q 1250 -91 836 529 \n",
       "Q 422 1150 422 2328 \n",
       "Q 422 3509 836 4129 \n",
       "Q 1250 4750 2034 4750 \n",
       "z\n",
       "\" id=\"DejaVuSans-30\" transform=\"scale(0.015625)\"/>\n",
       "       <path d=\"M 1831 0 \n",
       "L 50 4666 \n",
       "L 709 4666 \n",
       "L 2188 738 \n",
       "L 3669 4666 \n",
       "L 4325 4666 \n",
       "L 2547 0 \n",
       "L 1831 0 \n",
       "z\n",
       "\" id=\"DejaVuSans-56\" transform=\"scale(0.015625)\"/>\n",
       "      </defs>\n",
       "      <use xlink:href=\"#DejaVuSans-31\"/>\n",
       "      <use x=\"63.623047\" xlink:href=\"#DejaVuSans-30\"/>\n",
       "      <use x=\"127.246094\" xlink:href=\"#DejaVuSans-56\"/>\n",
       "     </g>\n",
       "    </g>\n",
       "   </g>\n",
       "   <g id=\"text_2\">\n",
       "    <g clip-path=\"url(#pcee3202411)\">\n",
       "     <!-- 1kΩ -->\n",
       "     <g transform=\"translate(14.483859 96.669219)scale(0.125 -0.125)\">\n",
       "      <defs>\n",
       "       <path d=\"M 581 4863 \n",
       "L 1159 4863 \n",
       "L 1159 1991 \n",
       "L 2875 3500 \n",
       "L 3609 3500 \n",
       "L 1753 1863 \n",
       "L 3688 0 \n",
       "L 2938 0 \n",
       "L 1159 1709 \n",
       "L 1159 0 \n",
       "L 581 0 \n",
       "L 581 4863 \n",
       "z\n",
       "\" id=\"DejaVuSans-6b\" transform=\"scale(0.015625)\"/>\n",
       "       <path d=\"M 4647 556 \n",
       "L 4647 0 \n",
       "L 2772 0 \n",
       "L 2772 556 \n",
       "Q 3325 859 3634 1378 \n",
       "Q 3944 1897 3944 2528 \n",
       "Q 3944 3278 3531 3731 \n",
       "Q 3119 4184 2444 4184 \n",
       "Q 1769 4184 1355 3729 \n",
       "Q 941 3275 941 2528 \n",
       "Q 941 1897 1250 1378 \n",
       "Q 1563 859 2119 556 \n",
       "L 2119 0 \n",
       "L 244 0 \n",
       "L 244 556 \n",
       "L 1241 556 \n",
       "Q 747 991 519 1456 \n",
       "Q 294 1922 294 2497 \n",
       "Q 294 3491 894 4106 \n",
       "Q 1491 4722 2444 4722 \n",
       "Q 3391 4722 3994 4106 \n",
       "Q 4594 3494 4594 2528 \n",
       "Q 4594 1922 4372 1459 \n",
       "Q 4150 997 3647 556 \n",
       "L 4647 556 \n",
       "z\n",
       "\" id=\"DejaVuSans-3a9\" transform=\"scale(0.015625)\"/>\n",
       "      </defs>\n",
       "      <use xlink:href=\"#DejaVuSans-31\"/>\n",
       "      <use x=\"63.623047\" xlink:href=\"#DejaVuSans-6b\"/>\n",
       "      <use x=\"121.533203\" xlink:href=\"#DejaVuSans-3a9\"/>\n",
       "     </g>\n",
       "    </g>\n",
       "   </g>\n",
       "   <g id=\"text_3\">\n",
       "    <g clip-path=\"url(#pcee3202411)\">\n",
       "     <!-- a -->\n",
       "     <g transform=\"translate(147.093 142.569219)scale(0.125 -0.125)\">\n",
       "      <defs>\n",
       "       <path d=\"M 2194 1759 \n",
       "Q 1497 1759 1228 1600 \n",
       "Q 959 1441 959 1056 \n",
       "Q 959 750 1161 570 \n",
       "Q 1363 391 1709 391 \n",
       "Q 2188 391 2477 730 \n",
       "Q 2766 1069 2766 1631 \n",
       "L 2766 1759 \n",
       "L 2194 1759 \n",
       "z\n",
       "M 3341 1997 \n",
       "L 3341 0 \n",
       "L 2766 0 \n",
       "L 2766 531 \n",
       "Q 2569 213 2275 61 \n",
       "Q 1981 -91 1556 -91 \n",
       "Q 1019 -91 701 211 \n",
       "Q 384 513 384 1019 \n",
       "Q 384 1609 779 1909 \n",
       "Q 1175 2209 1959 2209 \n",
       "L 2766 2209 \n",
       "L 2766 2266 \n",
       "Q 2766 2663 2505 2880 \n",
       "Q 2244 3097 1772 3097 \n",
       "Q 1472 3097 1187 3025 \n",
       "Q 903 2953 641 2809 \n",
       "L 641 3341 \n",
       "Q 956 3463 1253 3523 \n",
       "Q 1550 3584 1831 3584 \n",
       "Q 2591 3584 2966 3190 \n",
       "Q 3341 2797 3341 1997 \n",
       "z\n",
       "\" id=\"DejaVuSans-61\" transform=\"scale(0.015625)\"/>\n",
       "      </defs>\n",
       "      <use xlink:href=\"#DejaVuSans-61\"/>\n",
       "     </g>\n",
       "    </g>\n",
       "   </g>\n",
       "   <g id=\"text_4\">\n",
       "    <g clip-path=\"url(#pcee3202411)\">\n",
       "     <!-- 2kΩ -->\n",
       "     <g transform=\"translate(14.483859 188.469219)scale(0.125 -0.125)\">\n",
       "      <defs>\n",
       "       <path d=\"M 1228 531 \n",
       "L 3431 531 \n",
       "L 3431 0 \n",
       "L 469 0 \n",
       "L 469 531 \n",
       "Q 828 903 1448 1529 \n",
       "Q 2069 2156 2228 2338 \n",
       "Q 2531 2678 2651 2914 \n",
       "Q 2772 3150 2772 3378 \n",
       "Q 2772 3750 2511 3984 \n",
       "Q 2250 4219 1831 4219 \n",
       "Q 1534 4219 1204 4116 \n",
       "Q 875 4013 500 3803 \n",
       "L 500 4441 \n",
       "Q 881 4594 1212 4672 \n",
       "Q 1544 4750 1819 4750 \n",
       "Q 2544 4750 2975 4387 \n",
       "Q 3406 4025 3406 3419 \n",
       "Q 3406 3131 3298 2873 \n",
       "Q 3191 2616 2906 2266 \n",
       "Q 2828 2175 2409 1742 \n",
       "Q 1991 1309 1228 531 \n",
       "z\n",
       "\" id=\"DejaVuSans-32\" transform=\"scale(0.015625)\"/>\n",
       "      </defs>\n",
       "      <use xlink:href=\"#DejaVuSans-32\"/>\n",
       "      <use x=\"63.623047\" xlink:href=\"#DejaVuSans-6b\"/>\n",
       "      <use x=\"121.533203\" xlink:href=\"#DejaVuSans-3a9\"/>\n",
       "     </g>\n",
       "    </g>\n",
       "   </g>\n",
       "   <g id=\"text_5\">\n",
       "    <g clip-path=\"url(#pcee3202411)\">\n",
       "     <!-- b -->\n",
       "     <g transform=\"translate(147.093 234.369219)scale(0.125 -0.125)\">\n",
       "      <defs>\n",
       "       <path d=\"M 3116 1747 \n",
       "Q 3116 2381 2855 2742 \n",
       "Q 2594 3103 2138 3103 \n",
       "Q 1681 3103 1420 2742 \n",
       "Q 1159 2381 1159 1747 \n",
       "Q 1159 1113 1420 752 \n",
       "Q 1681 391 2138 391 \n",
       "Q 2594 391 2855 752 \n",
       "Q 3116 1113 3116 1747 \n",
       "z\n",
       "M 1159 2969 \n",
       "Q 1341 3281 1617 3432 \n",
       "Q 1894 3584 2278 3584 \n",
       "Q 2916 3584 3314 3078 \n",
       "Q 3713 2572 3713 1747 \n",
       "Q 3713 922 3314 415 \n",
       "Q 2916 -91 2278 -91 \n",
       "Q 1894 -91 1617 61 \n",
       "Q 1341 213 1159 525 \n",
       "L 1159 0 \n",
       "L 581 0 \n",
       "L 581 4863 \n",
       "L 1159 4863 \n",
       "L 1159 2969 \n",
       "z\n",
       "\" id=\"DejaVuSans-62\" transform=\"scale(0.015625)\"/>\n",
       "      </defs>\n",
       "      <use xlink:href=\"#DejaVuSans-62\"/>\n",
       "     </g>\n",
       "    </g>\n",
       "   </g>\n",
       "   <g id=\"patch_4\">\n",
       "    <path clip-path=\"url(#pcee3202411)\" d=\"M 49.938 141.415 \n",
       "C 50.546641 141.415 51.130436 141.173184 51.56081 140.74281 \n",
       "C 51.991184 140.312436 52.233 139.728641 52.233 139.12 \n",
       "C 52.233 138.511359 51.991184 137.927564 51.56081 137.49719 \n",
       "C 51.130436 137.066816 50.546641 136.825 49.938 136.825 \n",
       "C 49.329359 136.825 48.745564 137.066816 48.31519 137.49719 \n",
       "C 47.884816 137.927564 47.643 138.511359 47.643 139.12 \n",
       "C 47.643 139.728641 47.884816 140.312436 48.31519 140.74281 \n",
       "C 48.745564 141.173184 49.329359 141.415 49.938 141.415 \n",
       "z\n",
       "\" style=\"stroke:#000000;stroke-linejoin:miter;stroke-width:2;\"/>\n",
       "   </g>\n",
       "   <g id=\"patch_5\">\n",
       "    <path clip-path=\"url(#pcee3202411)\" d=\"M 49.938 233.215 \n",
       "C 50.546641 233.215 51.130436 232.973184 51.56081 232.54281 \n",
       "C 51.991184 232.112436 52.233 231.528641 52.233 230.92 \n",
       "C 52.233 230.311359 51.991184 229.727564 51.56081 229.29719 \n",
       "C 51.130436 228.866816 50.546641 228.625 49.938 228.625 \n",
       "C 49.329359 228.625 48.745564 228.866816 48.31519 229.29719 \n",
       "C 47.884816 229.727564 47.643 230.311359 47.643 230.92 \n",
       "C 47.643 231.528641 47.884816 232.112436 48.31519 232.54281 \n",
       "C 48.745564 232.973184 49.329359 233.215 49.938 233.215 \n",
       "z\n",
       "\" style=\"stroke:#000000;stroke-linejoin:miter;stroke-width:2;\"/>\n",
       "   </g>\n",
       "  </g>\n",
       " </g>\n",
       " <defs>\n",
       "  <clipPath id=\"pcee3202411\">\n",
       "   <rect height=\"246.364\" width=\"161.976\" x=\"7.2\" y=\"7.2\"/>\n",
       "  </clipPath>\n",
       " </defs>\n",
       "</svg>\n"
      ],
      "text/plain": [
       "<schemdraw.backends.mpl.Figure object at 0x7efd8879f820>"
      ]
     },
     "metadata": {},
     "output_type": "display_data"
    }
   ],
   "source": [
    "with schemdraw.Drawing() as schematics:\n",
    "    schematics.add(elm.Vdd().label(\"10V\"))\n",
    "    schematics.add(elm.Resistor().label(\"1kΩ\").down())\n",
    "    schematics.add(elm.Dot())\n",
    "    schematics.push()\n",
    "    schematics.add(elm.Line().dot(open=True).right().label(\"a\", \"right\"))\n",
    "    schematics.pop()\n",
    "    schematics.add(elm.Resistor().label(\"2kΩ\").down())\n",
    "    schematics.add(elm.Dot())\n",
    "    schematics.push()\n",
    "    schematics.add(elm.Line().dot(open=True).right().label(\"b\", \"right\"))\n",
    "    schematics.pop()\n",
    "    schematics.add(elm.Ground())"
   ]
  },
  {
   "cell_type": "markdown",
   "id": "74459041-9370-4ad5-936e-02a2e94c1137",
   "metadata": {},
   "source": [
    "Прежде чем приступать к симуляции следует провести необходимые вычисления, чтобы быть понять являются ли результаты симуляции правильными. В данном примере меня интересует разница потенциалов между точкой a и точкой b, для этого нужно использовать формулу делителя напряжения:\n",
    "\n",
    "$$\n",
    "V_{ab} = V_{in}\\frac{R2}{R1 + R2} = 12\\text{V}\\frac{2k\\text{Ohm}}{1k\\text{Ohm} + 2k\\text{Ohm}} = 12\\frac{2000}{3000} = 6.67\\text{V}\n",
    "$$"
   ]
  },
  {
   "cell_type": "markdown",
   "id": "8260bb00-1a9c-4b7b-857f-851b95a94943",
   "metadata": {
    "tags": []
   },
   "source": [
    "### DC анализ"
   ]
  },
  {
   "cell_type": "markdown",
   "id": "6da4769d-a1a9-4a40-8a29-16b4d43ac4f1",
   "metadata": {},
   "source": [
    "Проанализируем DC цепь на примере резистивного делителя напряжения."
   ]
  },
  {
   "cell_type": "markdown",
   "id": "ee9cff6c-1cd6-4aa3-ba64-2ac84d607922",
   "metadata": {},
   "source": [
    "Создадим новый объект, где будет описывать саму цепь:"
   ]
  },
  {
   "cell_type": "code",
   "execution_count": 8,
   "id": "17b2eaac-0fe1-4f56-a3e8-9d17102e19bc",
   "metadata": {},
   "outputs": [],
   "source": [
    "circuit = Circuit(\"Resistive Voltage Divider\")"
   ]
  },
  {
   "cell_type": "markdown",
   "id": "9d01e764-b716-415b-83c6-cd7ae9a21106",
   "metadata": {},
   "source": [
    "Добавим все елементы цепи:"
   ]
  },
  {
   "cell_type": "code",
   "execution_count": 9,
   "id": "78c77b09-8d34-472d-a966-07914513cdcc",
   "metadata": {},
   "outputs": [
    {
     "name": "stdout",
     "output_type": "stream",
     "text": [
      "\u001b[1;32m2023-01-30 14:16:40,152\u001b[0m - \u001b[1;34mPySpice.Spice.Netlist.Node.__init__\u001b[0m - \u001b[1;31mWARNING\u001b[0m - Node name 'in' is a Python keyword\n"
     ]
    },
    {
     "data": {
      "text/plain": [
       "Resistor R2"
      ]
     },
     "execution_count": 9,
     "metadata": {},
     "output_type": "execute_result"
    }
   ],
   "source": [
    "circuit.V(1, \"in\", circuit.gnd, 10@u_V)\n",
    "circuit.R(1, \"in\", \"out\", 1@u_kOhm)\n",
    "circuit.R(2, \"out\", circuit.gnd, 2@u_kOhm)"
   ]
  },
  {
   "cell_type": "markdown",
   "id": "116d73cc-3bae-4b17-9f44-21c30d9fe781",
   "metadata": {},
   "source": [
    "Важно запомнить названия узлов так как далее при анализе результатов именно при помощи этих имён мы сможет определить где находиться узел."
   ]
  },
  {
   "cell_type": "markdown",
   "id": "ccd36dca-f1af-4da8-9a90-8789e1b29e22",
   "metadata": {},
   "source": [
    "PySpice сформировал SPICE код, может его посмотреть:"
   ]
  },
  {
   "cell_type": "code",
   "execution_count": 10,
   "id": "a24f60e9-8ae2-4287-bea2-79b690aebc6d",
   "metadata": {},
   "outputs": [
    {
     "name": "stdout",
     "output_type": "stream",
     "text": [
      ".title Resistive Voltage Divider\n",
      "V1 in 0 10V\n",
      "R1 in out 1kOhm\n",
      "R2 out 0 2kOhm\n",
      "\n"
     ]
    }
   ],
   "source": [
    "print(circuit)"
   ]
  },
  {
   "cell_type": "markdown",
   "id": "56b69687-b3b0-4d3f-b0cd-a54aec1b75a0",
   "metadata": {},
   "source": [
    "Создадим объект симуляции:"
   ]
  },
  {
   "cell_type": "code",
   "execution_count": 11,
   "id": "1f3d44e5-9ce1-404e-811d-108dd7845b78",
   "metadata": {},
   "outputs": [
    {
     "name": "stdout",
     "output_type": "stream",
     "text": [
      "\u001b[1;32m2023-01-30 14:16:43,117\u001b[0m - \u001b[1;34mPySpice.Spice.NgSpice.Shared.NgSpiceShared._init_ngspice\u001b[0m - \u001b[1;31mWARNING\u001b[0m - Unsupported Ngspice version 38\n",
      ".title Resistive Voltage Divider\n",
      "V1 in 0 10V\n",
      "R1 in out 1kOhm\n",
      "R2 out 0 2kOhm\n",
      ".options TEMP = 25C\n",
      ".options TNOM = 25C\n",
      ".end\n",
      "\n"
     ]
    }
   ],
   "source": [
    "simulator = circuit.simulator(temperature=TEMPERATURE, nominal_temperature=TEMPERATURE)\n",
    "print(simulator)"
   ]
  },
  {
   "cell_type": "markdown",
   "id": "9cb6a499-c46c-4ede-8ae6-15e88b4ec704",
   "metadata": {},
   "source": [
    "Меня интересует напряжение."
   ]
  },
  {
   "cell_type": "code",
   "execution_count": 12,
   "id": "9d8cddfc-05e0-48b9-aea1-43ba315c4491",
   "metadata": {},
   "outputs": [],
   "source": [
    "analysis = simulator.operating_point()"
   ]
  },
  {
   "cell_type": "markdown",
   "id": "f71f4959-d510-4622-97a7-b3e920525d5a",
   "metadata": {},
   "source": [
    "Выведем названия узлов и значения напряжения, которое впадает в этот узел:"
   ]
  },
  {
   "cell_type": "code",
   "execution_count": 13,
   "id": "c25fbacc-c7e6-40f2-bcba-bbaf83e3d7bf",
   "metadata": {},
   "outputs": [
    {
     "name": "stdout",
     "output_type": "stream",
     "text": [
      "Node out: 6.67V\n",
      "Node in: 10.00V\n"
     ]
    }
   ],
   "source": [
    "for node in analysis.nodes.values():\n",
    "    print(f\"Node {str(node)}: {float(node):.2f}V\")"
   ]
  },
  {
   "cell_type": "markdown",
   "id": "f46dc74f-a6cc-4c6e-9d33-6d39da1f3609",
   "metadata": {},
   "source": [
    "Хотелось бы в который раз удостовериться, что чем выше входное напряжение делителя тем выше выходное. Для этого анализа узлов мало, необходимо как-то изменять входное напряжение. Для этого можно использовать DC анализ:"
   ]
  },
  {
   "cell_type": "code",
   "execution_count": 14,
   "id": "feae98cf-eb40-4bbb-bc53-f1ae0b842b17",
   "metadata": {},
   "outputs": [],
   "source": [
    "analysis = simulator.dc(V1=slice(0.0, 5.0, 0.01))"
   ]
  },
  {
   "cell_type": "markdown",
   "id": "1beb89f3-731c-49d7-a8ed-6325880e18b4",
   "metadata": {},
   "source": [
    "Остаётся только сформировать график зависимости входного напряжения от выходного:"
   ]
  },
  {
   "cell_type": "code",
   "execution_count": 15,
   "id": "2951aa41-483c-4637-82dc-8575ed71d984",
   "metadata": {},
   "outputs": [
    {
     "data": {
      "image/png": "[encoded data removed]",
      "text/plain": [
       "<Figure size 640x480 with 1 Axes>"
      ]
     },
     "metadata": {},
     "output_type": "display_data"
    }
   ],
   "source": [
    "plt.plot(np.array(analysis.nodes[\"in\"]), np.array(analysis.nodes[\"out\"]))\n",
    "plt.title(\"Resistive Divider\")\n",
    "plt.xlabel(\"Vin [V]\")\n",
    "plt.ylabel(\"Vout [V]\")\n",
    "plt.show()"
   ]
  },
  {
   "cell_type": "markdown",
   "id": "e2eacd73-0ca7-403b-b1b7-cb59bebcf030",
   "metadata": {
    "tags": []
   },
   "source": [
    "### AC анализ"
   ]
  },
  {
   "cell_type": "markdown",
   "id": "cb7904a2-8d4e-40f4-ad2f-e639e75434d3",
   "metadata": {},
   "source": [
    "Аналогично проанализируем резистивный делитель переменного напряжения."
   ]
  },
  {
   "cell_type": "code",
   "execution_count": 16,
   "id": "64127ea8-60f7-4d14-b017-657088878d69",
   "metadata": {
    "tags": []
   },
   "outputs": [],
   "source": [
    "circuit = Circuit(\"Resistive AC Voltage Divider\")"
   ]
  },
  {
   "cell_type": "code",
   "execution_count": 17,
   "id": "275c9fb3-e904-476a-b327-d33cfa274654",
   "metadata": {},
   "outputs": [
    {
     "name": "stdout",
     "output_type": "stream",
     "text": [
      "\u001b[1;32m2023-01-30 14:16:46,956\u001b[0m - \u001b[1;34mPySpice.Spice.Netlist.Node.__init__\u001b[0m - \u001b[1;31mWARNING\u001b[0m - Node name 'in' is a Python keyword\n"
     ]
    },
    {
     "data": {
      "text/plain": [
       "Resistor R2"
      ]
     },
     "execution_count": 17,
     "metadata": {},
     "output_type": "execute_result"
    }
   ],
   "source": [
    "circuit.SinusoidalVoltageSource(1, \"in\", circuit.gnd, amplitude=10@u_V, frequency=5@u_Hz)\n",
    "circuit.R(1, \"in\", \"out\", 1@u_kOhm)\n",
    "circuit.R(2, \"out\", circuit.gnd, 2@u_kOhm)"
   ]
  },
  {
   "cell_type": "code",
   "execution_count": 18,
   "id": "f0e2121e-1060-4c31-8ea0-1816cf511d95",
   "metadata": {
    "tags": []
   },
   "outputs": [
    {
     "name": "stdout",
     "output_type": "stream",
     "text": [
      ".title Resistive AC Voltage Divider\n",
      "V1 in 0 DC 0V AC 1V SIN(0V 10V 5Hz 0s 0Hz)\n",
      "R1 in out 1kOhm\n",
      "R2 out 0 2kOhm\n",
      "\n"
     ]
    }
   ],
   "source": [
    "print(circuit)"
   ]
  },
  {
   "cell_type": "code",
   "execution_count": 19,
   "id": "ba8957aa-ba42-42ce-9c8f-e9327c53e35d",
   "metadata": {},
   "outputs": [],
   "source": [
    "simulation = circuit.simulator(temperature=TEMPERATURE, nominal_temperature=TEMPERATURE)\n",
    "analysis = simulation.transient(step_time=1@u_ms, end_time=1@u_s)"
   ]
  },
  {
   "cell_type": "code",
   "execution_count": 20,
   "id": "50ca712f-3a1b-4214-b058-a5a6a26a7ae1",
   "metadata": {
    "tags": []
   },
   "outputs": [
    {
     "name": "stdout",
     "output_type": "stream",
     "text": [
      "Out amplitude: 6.666408742668121\n"
     ]
    },
    {
     "data": {
      "image/png": "[encoded data removed]",
      "text/plain": [
       "<Figure size 1000x300 with 1 Axes>"
      ]
     },
     "metadata": {},
     "output_type": "display_data"
    }
   ],
   "source": [
    "in_ = np.array(analysis.nodes[\"in\"])\n",
    "out = np.array(analysis.nodes[\"out\"])\n",
    "\n",
    "figure, axis = plt.subplots(figsize=(10, 3))\n",
    "axis.set_title(\"Resistive AC Divider\")\n",
    "axis.set_xlabel(\"Time [ms]\")\n",
    "axis.set_xticks(np.arange(0.0, 1.1, 0.2))\n",
    "axis.set_ylabel(\"V [voltage]\")\n",
    "axis.set_ylim(-13, 13)\n",
    "axis.plot(np.array(analysis.time), in_, label=\"Vin\")\n",
    "axis.plot(np.array(analysis.time), out, label=\"Vout\")\n",
    "axis.grid(True)\n",
    "axis.legend()\n",
    "print(\"Out amplitude: \" + str(np.max(np.array(analysis.nodes[\"out\"]))))"
   ]
  }
 ],
 "metadata": {
  "kernelspec": {
   "display_name": "Python 3 (ipykernel)",
   "language": "python",
   "name": "python3"
  },
  "language_info": {
   "codemirror_mode": {
    "name": "ipython",
    "version": 3
   },
   "file_extension": ".py",
   "mimetype": "text/x-python",
   "name": "python",
   "nbconvert_exporter": "python",
   "pygments_lexer": "ipython3",
   "version": "3.10.9"
  }
 },
 "nbformat": 4,
 "nbformat_minor": 5
}
